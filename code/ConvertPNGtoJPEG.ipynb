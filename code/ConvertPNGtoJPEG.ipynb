{
 "cells": [
  {
   "cell_type": "code",
   "execution_count": 1,
   "id": "da4cba91-02b1-42a5-88eb-136c2da74c26",
   "metadata": {},
   "outputs": [
    {
     "name": "stdout",
     "output_type": "stream",
     "text": [
      "Requirement already satisfied: pillow in c:\\users\\reyna\\anaconda3\\lib\\site-packages (10.1.0)\n"
     ]
    }
   ],
   "source": [
    "!pip install pillow"
   ]
  },
  {
   "cell_type": "code",
   "execution_count": 2,
   "id": "a7148f88-beff-497f-9c8c-d176fe9c0248",
   "metadata": {
    "tags": []
   },
   "outputs": [],
   "source": [
    "from PIL import Image\n",
    "import os\n",
    "\n",
    "def convert_images(input_directory, output_directory):\n",
    "    if not os.path.exists(output_directory):\n",
    "        os.makedirs(output_directory)\n",
    "        \n",
    "    for filename in os.listdir(input_directory):\n",
    "        if filename.endswith(\".png\"):\n",
    "            img = Image.open(os.path.join(input_directory, filename))\n",
    "            rgb_img = img.convert('RGB')\n",
    "            resized_img = rgb_img.resize((600, 600))\n",
    "            resized_img.save(os.path.join(output_directory, filename[:-4] + '.jpg'), 'JPEG')\n",
    "\n",
    "#convert_images('/Users/reyna/stylegan3/out','/Users/reyna/stylegan3/outJPEG')\n",
    "convert_images('/Users/reyna/CSCI158ProjectServer/source/stylegan3/Realistic_50_Images','/Users/reyna/CSCI158ProjectServer/source/stylegan3/Realistic_50_Images_JPG')\n"
   ]
  },
  {
   "cell_type": "code",
   "execution_count": null,
   "id": "10d44c0e-9f25-4263-8a33-297a62615e29",
   "metadata": {},
   "outputs": [],
   "source": []
  }
 ],
 "metadata": {
  "kernelspec": {
   "display_name": "Python 3 (ipykernel)",
   "language": "python",
   "name": "python3"
  },
  "language_info": {
   "codemirror_mode": {
    "name": "ipython",
    "version": 3
   },
   "file_extension": ".py",
   "mimetype": "text/x-python",
   "name": "python",
   "nbconvert_exporter": "python",
   "pygments_lexer": "ipython3",
   "version": "3.11.5"
  }
 },
 "nbformat": 4,
 "nbformat_minor": 5
}
